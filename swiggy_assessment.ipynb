{
  "nbformat": 4,
  "nbformat_minor": 0,
  "metadata": {
    "colab": {
      "name": "swiggy_assessment.ipynb",
      "provenance": [],
      "authorship_tag": "ABX9TyMVox/OVXzi9gex2M6pOZ/8",
      "include_colab_link": true
    },
    "kernelspec": {
      "name": "python3",
      "display_name": "Python 3"
    }
  },
  "cells": [
    {
      "cell_type": "markdown",
      "metadata": {
        "id": "view-in-github",
        "colab_type": "text"
      },
      "source": [
        "<a href=\"https://colab.research.google.com/github/RichardPears/temp-workspace/blob/main/swiggy_assessment.ipynb\" target=\"_parent\"><img src=\"https://colab.research.google.com/assets/colab-badge.svg\" alt=\"Open In Colab\"/></a>"
      ]
    },
    {
      "cell_type": "markdown",
      "metadata": {
        "id": "dpX8bCoOE0fn"
      },
      "source": [
        "### swiggy case study - 1\r\n",
        "\r\n",
        "1.What strategies can Swiggy adopt to service the higher demand it faces during selected hours of the day/ selected days of the week. ( Data sets needs to be assumed)\r\n",
        "-List down various options you would adopt and discuss one option in detail with Data Driven approach;\r\n",
        "- Explain execution cost and expected benefits\r\n"
      ]
    },
    {
      "cell_type": "markdown",
      "metadata": {
        "id": "ryxTLqzqexFw"
      },
      "source": [
        "* efef\r\n",
        "\r\n",
        "\r\n",
        "\r\n",
        "\r\n",
        "\r\n"
      ]
    },
    {
      "cell_type": "markdown",
      "metadata": {
        "id": "4fsgLpW0E0ic"
      },
      "source": [
        ""
      ]
    },
    {
      "cell_type": "code",
      "metadata": {
        "id": "13yMnxjHfVoG"
      },
      "source": [
        ""
      ],
      "execution_count": null,
      "outputs": []
    },
    {
      "cell_type": "code",
      "metadata": {
        "id": "PZQgCdKXfVcQ"
      },
      "source": [
        ""
      ],
      "execution_count": null,
      "outputs": []
    },
    {
      "cell_type": "code",
      "metadata": {
        "id": "C94qZdWPfVZN"
      },
      "source": [
        ""
      ],
      "execution_count": null,
      "outputs": []
    },
    {
      "cell_type": "markdown",
      "metadata": {
        "id": "muKReXtpE0lL"
      },
      "source": [
        ""
      ]
    }
  ]
}