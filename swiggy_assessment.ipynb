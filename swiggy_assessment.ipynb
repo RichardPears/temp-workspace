{
  "nbformat": 4,
  "nbformat_minor": 0,
  "metadata": {
    "colab": {
      "name": "swiggy_assessment.ipynb",
      "provenance": [],
      "authorship_tag": "ABX9TyOaM2WMOCIqDv3RFfH7fQ3r",
      "include_colab_link": true
    },
    "kernelspec": {
      "name": "python3",
      "display_name": "Python 3"
    }
  },
  "cells": [
    {
      "cell_type": "markdown",
      "metadata": {
        "id": "view-in-github",
        "colab_type": "text"
      },
      "source": [
        "<a href=\"https://colab.research.google.com/github/RichardPears/temp-workspace/blob/main/swiggy_assessment.ipynb\" target=\"_parent\"><img src=\"https://colab.research.google.com/assets/colab-badge.svg\" alt=\"Open In Colab\"/></a>"
      ]
    },
    {
      "cell_type": "markdown",
      "metadata": {
        "id": "dpX8bCoOE0fn"
      },
      "source": [
        "### **swiggy case analysis - 1**\r\n",
        "\r\n",
        "1.What strategies can Swiggy adopt to service the higher demand it faces during selected hours of the day/ selected days of the week. ( Data sets needs to be assumed)\r\n",
        "\r\n",
        "-List down various options you would adopt and discuss one option in detail with Data Driven approach;\r\n",
        "- Explain execution cost and expected benefits\r\n",
        "\r\n",
        "**Solution:**\r\n",
        "\r\n",
        "Before getting into the aspect of handling demand in a better way, it is useful to understand what drives demand during the peak hours. \r\n",
        "Peak demand on food delivery services occurs during peak dinner time which ranges between 8 – 10 PM and tapers beyond that, as for days of the week there is significant increase seen during weekends and a seasonality observed during occasions and festive holidays.\r\n",
        "\r\n",
        "Increasing the fleet size to meet demand and reducing available restaurants to customers in their search radius does help with handling the problem but that increases expenses and reduces customer experience, hence it’s not the best way to handle peak demand hours.\r\n",
        "\r\n",
        "The food aggregator model works around two major segments which has the following constrains \r\n",
        "A - The total delivery time per order which consists (first mile time + last mile time + assignment delays) \r\n",
        "B – Availability of its hyperlocal delivery fleet to service any given order\r\n",
        "\r\n",
        "*\tDemand on the customer side can only be offset by optimizing parameters controlled by Swiggy in agent assignment and grouping orders by clustering them by delivery time.\r\n",
        "*\tPeak demand hours can be met by incentivizing the delivery fleet to operate actively during the peak hours, this will create a large pool of agents to which orders can be assigned.\r\n",
        "*\tDynamic pricing on delivery cost can help handle excessive demand on occasions and festive days when the fleet will not be capable to handle the surplus demand, this is meant to moderate the demand side and not to alienate customers with high cost.\r\n",
        "*\tBalancing the availability of delivery agents in areas that have shown to have maximum demand using historical data.\r\n",
        "*\tDemand is seen to shift in areas and is not uniform within a city, this can be used to push agents within the search radius to ensure that all delivery agents are continuously carrying out orders and no time is lost being idle.\r\n",
        "*\tRestaurants that are overrun with orders and in-house dining should be able to limit the intake orders to ensure all deliveries are within the allotted time.\r\n",
        "*\tDelivery agents can be intimated about the influx of orders that happen during peak hours in certain parts of the city so that less time is spent idle.\r\n",
        "*\tOrders that are along the same delivery path of the agent should be grouped together as long it falls within the total delivery time hence it increases the total available agents in a given area to meet the demand.\r\n",
        "*\tSince the time it takes for the restaurant in food preparation and the first mile time occurs in a parallel manner theses estimates can be kept to be as close to each other as possible thereby reducing the idle time from the delivery agent and the restaurant which in turn also improves overall availability of delivery agents.\r\n",
        "*\tThere should be load balancing in the assignment of agents in a manner which doesn’t create a drop of agents in a particular region at any given time this might cause the delivery times to go up.\r\n",
        "\r\n",
        "\r\n"
      ]
    },
    {
      "cell_type": "markdown",
      "metadata": {
        "id": "ryxTLqzqexFw"
      },
      "source": [
        "* \r\n",
        "\r\n",
        "\r\n",
        "\r\n",
        "\r\n",
        "\r\n"
      ]
    },
    {
      "cell_type": "markdown",
      "metadata": {
        "id": "4fsgLpW0E0ic"
      },
      "source": [
        ""
      ]
    },
    {
      "cell_type": "code",
      "metadata": {
        "id": "F05bV7mpcU0w"
      },
      "source": [
        ""
      ],
      "execution_count": null,
      "outputs": []
    },
    {
      "cell_type": "code",
      "metadata": {
        "id": "seTbARZ1cU3A"
      },
      "source": [
        ""
      ],
      "execution_count": null,
      "outputs": []
    },
    {
      "cell_type": "code",
      "metadata": {
        "colab": {
          "base_uri": "https://localhost:8080/"
        },
        "id": "PZQgCdKXfVcQ",
        "outputId": "38e48a74-67ff-40ba-e51e-67a5e770fa06"
      },
      "source": [
        "bang_map = folium.Map(location=[12.9716, 77.5946],zoom_start=11)\r\n",
        "folium.TileLayer('cartodbpositron').add_to(bang_map)\r\n",
        "\r\n",
        "loca=\"BBMP.GeoJSON\"\r\n",
        "folium.GeoJson(loca, name=\"geojson\").add_to(bang_map)\r\n",
        "\r\n",
        "#bang_map"
      ],
      "execution_count": 42,
      "outputs": [
        {
          "output_type": "execute_result",
          "data": {
            "text/plain": [
              "<folium.features.GeoJson at 0x7f1a10e049e8>"
            ]
          },
          "metadata": {
            "tags": []
          },
          "execution_count": 42
        }
      ]
    },
    {
      "cell_type": "markdown",
      "metadata": {
        "id": "AD0Sbu2n1rMh"
      },
      "source": [
        "The food aggregator model works around two major segments which has the following constrains\r\n",
        "\r\n",
        " A - The total delivery time per order which consists (first mile time + last\r\n",
        "mile time + assignment delays) \r\n",
        "\r\n",
        " B - Availability of its hyperlocal delivery fleet to service any given order\r\n",
        "\r\n",
        "\r\n",
        "\r\n",
        "•\tDemand on the customer side can only be offset by optimizing parameters controlled by Swiggy in agent assignment and grouping orders by clustering them by delivery time.\r\n",
        "•\tPeak demand hours can be met by incentivizing the delivery fleet to operate actively during the peak hours, this will create a large pool of agents to which orders can be assigned.\r\n"
      ]
    },
    {
      "cell_type": "code",
      "metadata": {
        "id": "vipNLexMVHo2"
      },
      "source": [
        ""
      ],
      "execution_count": null,
      "outputs": []
    }
  ]
}