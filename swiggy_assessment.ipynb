{
  "nbformat": 4,
  "nbformat_minor": 0,
  "metadata": {
    "colab": {
      "name": "swiggy_assessment.ipynb",
      "provenance": [],
      "authorship_tag": "ABX9TyPU6iAkI6FqZ5y/8zLmKYVQ"
    },
    "kernelspec": {
      "name": "python3",
      "display_name": "Python 3"
    }
  },
  "cells": [
    {
      "cell_type": "code",
      "metadata": {
        "colab": {
          "base_uri": "https://localhost:8080/"
        },
        "id": "rBnUqVb6EtDf",
        "outputId": "ef18c4ec-7ead-4404-bc51-e5a896c017b7"
      },
      "source": [
        "1+1\r\n"
      ],
      "execution_count": 1,
      "outputs": [
        {
          "output_type": "execute_result",
          "data": {
            "text/plain": [
              "2"
            ]
          },
          "metadata": {
            "tags": []
          },
          "execution_count": 1
        }
      ]
    },
    {
      "cell_type": "markdown",
      "metadata": {
        "id": "dpX8bCoOE0fn"
      },
      "source": [
        ""
      ]
    },
    {
      "cell_type": "markdown",
      "metadata": {
        "id": "4fsgLpW0E0ic"
      },
      "source": [
        ""
      ]
    },
    {
      "cell_type": "markdown",
      "metadata": {
        "id": "muKReXtpE0lL"
      },
      "source": [
        ""
      ]
    }
  ]
}