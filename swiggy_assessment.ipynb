{
  "nbformat": 4,
  "nbformat_minor": 0,
  "metadata": {
    "colab": {
      "name": "swiggy_assessment.ipynb",
      "provenance": [],
      "authorship_tag": "ABX9TyMUrUqXBXHfgLfE9UJoTZfm",
      "include_colab_link": true
    },
    "kernelspec": {
      "name": "python3",
      "display_name": "Python 3"
    }
  },
  "cells": [
    {
      "cell_type": "markdown",
      "metadata": {
        "id": "view-in-github",
        "colab_type": "text"
      },
      "source": [
        "<a href=\"https://colab.research.google.com/github/RichardPears/temp-workspace/blob/main/swiggy_assessment.ipynb\" target=\"_parent\"><img src=\"https://colab.research.google.com/assets/colab-badge.svg\" alt=\"Open In Colab\"/></a>"
      ]
    },
    {
      "cell_type": "markdown",
      "metadata": {
        "id": "dpX8bCoOE0fn"
      },
      "source": [
        "# **swiggy case analysis - 1**\r\n",
        "\r\n",
        "###**Solution:**\r\n",
        "\r\n",
        "Before getting into the aspect of handling demand in a better way, it is useful to understand what drives demand during the peak hours. \r\n",
        "Peak demand on food delivery services occurs during peak dinner time which ranges between 8 – 10 PM and tapers beyond that, as for days of the week there is significant increase seen during weekends and a seasonality observed during occasions and festive holidays.\r\n",
        "\r\n",
        "Increasing the fleet size to meet demand and reducing available restaurants to customers in their search radius does help with handling the problem but that increases expenses and reduces customer experience, hence it’s not the best way to handle peak demand hours.\r\n",
        "\r\n",
        "The food aggregator model works around two major segments which has the following constrains.  \r\n",
        "\r\n",
        "\r\n",
        "\r\n",
        "\r\n",
        "\r\n",
        "**A** - The total delivery time per order which consists (first mile time + last mile time + assignment delays) \r\n",
        "\r\n",
        "**B** – Availability of its hyperlocal delivery fleet to service any given order\r\n",
        "\r\n",
        "1.\tDemand on the customer side can only be offset by optimizing parameters controlled by Swiggy in agent assignment and grouping orders by clustering them by delivery time.\r\n",
        "\r\n",
        "2.\tPeak demand hours can be met by incentivizing the delivery fleet to operate actively during the peak hours, this will create a large pool of agents to which orders can be assigned.\r\n",
        "\r\n",
        "3.\tDynamic pricing on delivery cost can help handle excessive demand on occasions and festive days when the fleet will not be capable to handle the surplus demand, this is meant to moderate the demand side and not to alienate customers with high cost.\r\n",
        "\r\n",
        "4.\tBalancing the availability of delivery agents in areas that have shown to have maximum demand using historical data.\r\n",
        "\r\n",
        "5.\tDemand is seen to shift in areas and is not uniform within a city, this can be used to push agents within the search radius to ensure that all delivery agents are continuously carrying out orders and no time is lost being idle.\r\n",
        "\r\n",
        "6.\tRestaurants that are overrun with orders and in-house dining should be able to limit the intake orders to ensure all deliveries are within the allotted time.\r\n",
        "\r\n",
        "7.\tDelivery agents can be intimated about the influx of orders that happen during peak hours in certain parts of the city so that less time is spent idle.\r\n",
        "\r\n",
        "8.\tOrders that are along the same delivery path of the agent should be grouped together as long it falls within the total delivery time hence it increases the total available agents in a given area to meet the demand.\r\n",
        "\r\n",
        "9.\tSince the time it takes for the restaurant in food preparation and the first mile time occurs in a parallel manner theses estimates can be kept to be as close to each other as possible thereby reducing the idle time from the delivery agent and the restaurant which in turn also improves overall availability of delivery agents.\r\n",
        "\r\n",
        "10.\tThere should be load balancing in the assignment of agents in a manner which doesn’t create a drop of agents in a particular region at any given time this might cause the delivery times to go up.\r\n",
        "\r\n",
        "\r\n",
        "\r\n"
      ]
    },
    {
      "cell_type": "markdown",
      "metadata": {
        "id": "4fsgLpW0E0ic"
      },
      "source": [
        "#### **Data analysis**\r\n",
        "\r\n",
        "The core driver for handling demand during peak hours resides in how effectively both aspects A and B are optimized.\r\n",
        "\r\n",
        "The delivery agent pool and the delivery time associated with restaurants are to be derived from past deliveries, the data is not meant for an accurate depiction of the actual workflow but an estimation of how the delivery assignments ought to work in real time, this enables the process to optimize the various parameters of time delays to reduce idel and delays in the entire workflow.\r\n",
        "\r\n",
        "\r\n",
        "\r\n"
      ]
    },
    {
      "cell_type": "code",
      "metadata": {
        "id": "F05bV7mpcU0w"
      },
      "source": [
        "import pandas as pd\r\n",
        "import seaborn as sns\r\n",
        "import folium\r\n",
        "import numpy as np"
      ],
      "execution_count": 47,
      "outputs": []
    },
    {
      "cell_type": "code",
      "metadata": {
        "id": "io8yAhOBCjCr"
      },
      "source": [
        "train= pd.read_excel(r'Data_Train.xlsx')\r\n",
        "test= pd.read_excel(r'Data_Test.xlsx')"
      ],
      "execution_count": 48,
      "outputs": []
    },
    {
      "cell_type": "code",
      "metadata": {
        "colab": {
          "base_uri": "https://localhost:8080/"
        },
        "id": "rOyrXJXSCi_t",
        "outputId": "d1df2569-4d55-41c0-db0a-624d3ca0c915"
      },
      "source": [
        "df = pd.concat([train, test]).reset_index(drop = True)\r\n",
        "print(df.isna().sum())\r\n"
      ],
      "execution_count": 49,
      "outputs": [
        {
          "output_type": "stream",
          "text": [
            "Restaurant          0\n",
            "Location            0\n",
            "Cuisines            0\n",
            "Average_Cost        0\n",
            "Minimum_Order       0\n",
            "Rating              0\n",
            "Votes               0\n",
            "Reviews             0\n",
            "Delivery_Time    2774\n",
            "dtype: int64\n"
          ],
          "name": "stdout"
        }
      ]
    },
    {
      "cell_type": "code",
      "metadata": {
        "colab": {
          "base_uri": "https://localhost:8080/",
          "height": 684
        },
        "id": "_5_4G3sOCi85",
        "outputId": "e8b05f6d-4b84-4dfe-f8ac-b1229932bd46"
      },
      "source": [
        "df.info()\r\n",
        "df"
      ],
      "execution_count": 50,
      "outputs": [
        {
          "output_type": "stream",
          "text": [
            "<class 'pandas.core.frame.DataFrame'>\n",
            "RangeIndex: 13868 entries, 0 to 13867\n",
            "Data columns (total 9 columns):\n",
            " #   Column         Non-Null Count  Dtype \n",
            "---  ------         --------------  ----- \n",
            " 0   Restaurant     13868 non-null  object\n",
            " 1   Location       13868 non-null  object\n",
            " 2   Cuisines       13868 non-null  object\n",
            " 3   Average_Cost   13868 non-null  object\n",
            " 4   Minimum_Order  13868 non-null  object\n",
            " 5   Rating         13868 non-null  object\n",
            " 6   Votes          13868 non-null  object\n",
            " 7   Reviews        13868 non-null  object\n",
            " 8   Delivery_Time  11094 non-null  object\n",
            "dtypes: object(9)\n",
            "memory usage: 975.2+ KB\n"
          ],
          "name": "stdout"
        },
        {
          "output_type": "execute_result",
          "data": {
            "text/html": [
              "<div>\n",
              "<style scoped>\n",
              "    .dataframe tbody tr th:only-of-type {\n",
              "        vertical-align: middle;\n",
              "    }\n",
              "\n",
              "    .dataframe tbody tr th {\n",
              "        vertical-align: top;\n",
              "    }\n",
              "\n",
              "    .dataframe thead th {\n",
              "        text-align: right;\n",
              "    }\n",
              "</style>\n",
              "<table border=\"1\" class=\"dataframe\">\n",
              "  <thead>\n",
              "    <tr style=\"text-align: right;\">\n",
              "      <th></th>\n",
              "      <th>Restaurant</th>\n",
              "      <th>Location</th>\n",
              "      <th>Cuisines</th>\n",
              "      <th>Average_Cost</th>\n",
              "      <th>Minimum_Order</th>\n",
              "      <th>Rating</th>\n",
              "      <th>Votes</th>\n",
              "      <th>Reviews</th>\n",
              "      <th>Delivery_Time</th>\n",
              "    </tr>\n",
              "  </thead>\n",
              "  <tbody>\n",
              "    <tr>\n",
              "      <th>0</th>\n",
              "      <td>ID_6321</td>\n",
              "      <td>FTI College, Law College Road, Pune</td>\n",
              "      <td>Fast Food, Rolls, Burger, Salad, Wraps</td>\n",
              "      <td>₹200</td>\n",
              "      <td>₹50</td>\n",
              "      <td>3.5</td>\n",
              "      <td>12</td>\n",
              "      <td>4</td>\n",
              "      <td>30 minutes</td>\n",
              "    </tr>\n",
              "    <tr>\n",
              "      <th>1</th>\n",
              "      <td>ID_2882</td>\n",
              "      <td>Sector 3, Marathalli</td>\n",
              "      <td>Ice Cream, Desserts</td>\n",
              "      <td>₹100</td>\n",
              "      <td>₹50</td>\n",
              "      <td>3.5</td>\n",
              "      <td>11</td>\n",
              "      <td>4</td>\n",
              "      <td>30 minutes</td>\n",
              "    </tr>\n",
              "    <tr>\n",
              "      <th>2</th>\n",
              "      <td>ID_1595</td>\n",
              "      <td>Mumbai Central</td>\n",
              "      <td>Italian, Street Food, Fast Food</td>\n",
              "      <td>₹150</td>\n",
              "      <td>₹50</td>\n",
              "      <td>3.6</td>\n",
              "      <td>99</td>\n",
              "      <td>30</td>\n",
              "      <td>65 minutes</td>\n",
              "    </tr>\n",
              "    <tr>\n",
              "      <th>3</th>\n",
              "      <td>ID_5929</td>\n",
              "      <td>Sector 1, Noida</td>\n",
              "      <td>Mughlai, North Indian, Chinese</td>\n",
              "      <td>₹250</td>\n",
              "      <td>₹99</td>\n",
              "      <td>3.7</td>\n",
              "      <td>176</td>\n",
              "      <td>95</td>\n",
              "      <td>30 minutes</td>\n",
              "    </tr>\n",
              "    <tr>\n",
              "      <th>4</th>\n",
              "      <td>ID_6123</td>\n",
              "      <td>Rmz Centennial, I Gate, Whitefield</td>\n",
              "      <td>Cafe, Beverages</td>\n",
              "      <td>₹200</td>\n",
              "      <td>₹99</td>\n",
              "      <td>3.2</td>\n",
              "      <td>521</td>\n",
              "      <td>235</td>\n",
              "      <td>65 minutes</td>\n",
              "    </tr>\n",
              "    <tr>\n",
              "      <th>...</th>\n",
              "      <td>...</td>\n",
              "      <td>...</td>\n",
              "      <td>...</td>\n",
              "      <td>...</td>\n",
              "      <td>...</td>\n",
              "      <td>...</td>\n",
              "      <td>...</td>\n",
              "      <td>...</td>\n",
              "      <td>...</td>\n",
              "    </tr>\n",
              "    <tr>\n",
              "      <th>13863</th>\n",
              "      <td>ID_6342</td>\n",
              "      <td>Delhi University-GTB Nagar</td>\n",
              "      <td>Fast Food, Chinese</td>\n",
              "      <td>₹100</td>\n",
              "      <td>₹50</td>\n",
              "      <td>NEW</td>\n",
              "      <td>-</td>\n",
              "      <td>-</td>\n",
              "      <td>NaN</td>\n",
              "    </tr>\n",
              "    <tr>\n",
              "      <th>13864</th>\n",
              "      <td>ID_8495</td>\n",
              "      <td>Mico Layout, Stage 2, BTM Layout,Bangalore</td>\n",
              "      <td>Continental, North Indian, Desserts, Beverages</td>\n",
              "      <td>₹250</td>\n",
              "      <td>₹50</td>\n",
              "      <td>3.1</td>\n",
              "      <td>5</td>\n",
              "      <td>1</td>\n",
              "      <td>NaN</td>\n",
              "    </tr>\n",
              "    <tr>\n",
              "      <th>13865</th>\n",
              "      <td>ID_7122</td>\n",
              "      <td>Noorkhan Bazaar, Malakpet, Hyderabad</td>\n",
              "      <td>Andhra, South Indian</td>\n",
              "      <td>₹150</td>\n",
              "      <td>₹50</td>\n",
              "      <td>3.0</td>\n",
              "      <td>16</td>\n",
              "      <td>1</td>\n",
              "      <td>NaN</td>\n",
              "    </tr>\n",
              "    <tr>\n",
              "      <th>13866</th>\n",
              "      <td>ID_2475</td>\n",
              "      <td>D-Block, Sector 63, Noida</td>\n",
              "      <td>Bakery</td>\n",
              "      <td>₹100</td>\n",
              "      <td>₹99</td>\n",
              "      <td>3.0</td>\n",
              "      <td>7</td>\n",
              "      <td>2</td>\n",
              "      <td>NaN</td>\n",
              "    </tr>\n",
              "    <tr>\n",
              "      <th>13867</th>\n",
              "      <td>ID_1595</td>\n",
              "      <td>Dockyard Road, Mumbai CST Area</td>\n",
              "      <td>Italian, Street Food, Fast Food</td>\n",
              "      <td>₹150</td>\n",
              "      <td>₹50</td>\n",
              "      <td>3.6</td>\n",
              "      <td>99</td>\n",
              "      <td>30</td>\n",
              "      <td>NaN</td>\n",
              "    </tr>\n",
              "  </tbody>\n",
              "</table>\n",
              "<p>13868 rows × 9 columns</p>\n",
              "</div>"
            ],
            "text/plain": [
              "      Restaurant  ... Delivery_Time\n",
              "0        ID_6321  ...    30 minutes\n",
              "1        ID_2882  ...    30 minutes\n",
              "2        ID_1595  ...    65 minutes\n",
              "3        ID_5929  ...    30 minutes\n",
              "4        ID_6123  ...    65 minutes\n",
              "...          ...  ...           ...\n",
              "13863    ID_6342  ...           NaN\n",
              "13864    ID_8495  ...           NaN\n",
              "13865    ID_7122  ...           NaN\n",
              "13866    ID_2475  ...           NaN\n",
              "13867    ID_1595  ...           NaN\n",
              "\n",
              "[13868 rows x 9 columns]"
            ]
          },
          "metadata": {
            "tags": []
          },
          "execution_count": 50
        }
      ]
    },
    {
      "cell_type": "code",
      "metadata": {
        "id": "seTbARZ1cU3A"
      },
      "source": [
        "# data formating and cleaning\r\n",
        "df['Delivery_Time'] = df['Delivery_Time'].str.replace(' minutes','')\r\n",
        "df['Delivery_Time']=pd.to_numeric(df['Delivery_Time'])\r\n",
        "\r\n",
        "df['Minimum_Order'] = df['Minimum_Order'].str.replace(\"[^0-9]\",\"\")\r\n",
        "df['Minimum_Order'] = df['Minimum_Order'].str.strip()\r\n",
        "df['Minimum_Order']=pd.to_numeric(df['Minimum_Order'])\r\n",
        "\r\n",
        "df['Average_Cost'] = df['Average_Cost'].str.replace(\"[^0-9]\",\"\")\r\n",
        "df['Average_Cost'] = df['Average_Cost'].str.strip()\r\n",
        "df['Average_Cost']=pd.to_numeric(df['Average_Cost'])"
      ],
      "execution_count": 51,
      "outputs": []
    },
    {
      "cell_type": "code",
      "metadata": {
        "id": "0PYKlHbRQQ7x"
      },
      "source": [
        "\r\n",
        "df.Rating = df.Rating.replace(\"NEW\",np.nan)\r\n",
        "df.Rating = df.Rating.replace(\"-\",np.nan)\r\n",
        "df.Rating = df.Rating.replace(\"Opening Soon\",np.nan)\r\n",
        "df.Rating = df.Rating.replace(\"Temporarily Closed\",np.nan)\r\n",
        "df.Rating = df.Rating.astype('float')"
      ],
      "execution_count": 52,
      "outputs": []
    },
    {
      "cell_type": "code",
      "metadata": {
        "id": "s3p1ZNcHbLG9"
      },
      "source": [
        ""
      ],
      "execution_count": 52,
      "outputs": []
    },
    {
      "cell_type": "code",
      "metadata": {
        "id": "mZ4EEh9gQQ2k"
      },
      "source": [
        "df.Votes = df.Votes.replace(\"-\",np.nan)\r\n",
        "df.Votes = df.Votes.astype('float')\r\n",
        "\r\n",
        "df.Reviews = df.Reviews.replace(\"-\",np.nan)\r\n",
        "df.Reviews = df.Reviews.astype('float')\r\n",
        "\r\n",
        "\r\n",
        "df.Reviews.fillna(value=df.Reviews.mean(), inplace=True)\r\n",
        "df.Rating.fillna(value=df.Rating.mean(), inplace=True)\r\n",
        "df.Votes.fillna(value=df.Votes.mean(), inplace=True)\r\n"
      ],
      "execution_count": 53,
      "outputs": []
    },
    {
      "cell_type": "code",
      "metadata": {
        "id": "UvGifucvQQui"
      },
      "source": [
        "df.to_excel(\"output.xlsx\",\r\n",
        "             sheet_name='Sheet_name_1')  "
      ],
      "execution_count": 54,
      "outputs": []
    },
    {
      "cell_type": "code",
      "metadata": {
        "id": "dRGyI1AMFh61"
      },
      "source": [
        ""
      ],
      "execution_count": 54,
      "outputs": []
    },
    {
      "cell_type": "code",
      "metadata": {
        "colab": {
          "base_uri": "https://localhost:8080/"
        },
        "id": "q_4fUUoKFh4K",
        "outputId": "b5fc7128-a959-4714-d728-20cf7178d28e"
      },
      "source": [
        "df.columns\r\n",
        "columns=list(df)\r\n",
        "for i in columns:\r\n",
        "    print(df[i].value_counts())"
      ],
      "execution_count": 55,
      "outputs": [
        {
          "output_type": "stream",
          "text": [
            "ID_5538    26\n",
            "ID_7184    25\n",
            "ID_2483    24\n",
            "ID_1209    23\n",
            "ID_4654    23\n",
            "           ..\n",
            "ID_8402     1\n",
            "ID_3481     1\n",
            "ID_1412     1\n",
            "ID_3954     1\n",
            "ID_8480     1\n",
            "Name: Restaurant, Length: 8661, dtype: int64\n",
            "Mico Layout, Stage 2, BTM Layout,Bangalore          1158\n",
            "D-Block, Sector 63, Noida                           1027\n",
            "Sector 1, Noida                                      990\n",
            "FTI College, Law College Road, Pune                  734\n",
            "Delhi University-GTB Nagar                           699\n",
            "Sector 14, Noida                                     630\n",
            "Laxman Vihar Industrial Area, Sector 3A, Gurgoan     611\n",
            "Delhi Administration Flats, Timarpur                 602\n",
            "Rmz Centennial, I Gate, Whitefield                   585\n",
            "Mumbai Central                                       578\n",
            "MG Road, Pune                                        509\n",
            "Delhi High Court, India Gate                         504\n",
            "Nathan Road, Mangaldas Road, Pune                    476\n",
            "Sandhurst Road, Mumbai CST Area                      463\n",
            "Sector 3, Marathalli                                 444\n",
            "Majestic                                             411\n",
            "Delhi Cantt.                                         397\n",
            "Yerawada, Pune, Maharashtra                          379\n",
            "Dockyard Road, Mumbai CST Area                       362\n",
            "Pune University                                      344\n",
            "Babarpur, New Delhi, Delhi                           337\n",
            "Sector 63A,Gurgaon                                   323\n",
            "Moulali, Kolkata                                     173\n",
            "Chandni Chowk, Kolkata                               156\n",
            "Raja Bazar, Kolkata                                  138\n",
            "Tejas Nagar Colony, Wadala West, Mumbai              133\n",
            "Tiretti, Kolkata                                     116\n",
            "Gora Bazar, Rajbari, North Dumdum, Kolkata            95\n",
            "Hyderabad Public School, Begumpet                     93\n",
            "Musi Nagar, Malakpet, Hyderabad                       91\n",
            "Noorkhan Bazaar, Malakpet, Hyderabad                  79\n",
            "Panjetan Colony, Malakpet, Hyderabad                  73\n",
            "Chatta Bazaar, Malakpet, Hyderabad                    67\n",
            "Jaya Nagar, Saidabad, Hyderabad                       61\n",
            "BTM Layout 1, Electronic City                         30\n",
            "Name: Location, dtype: int64\n",
            "North Indian                                               1076\n",
            "North Indian, Chinese                                       786\n",
            "Fast Food                                                   553\n",
            "South Indian                                                336\n",
            "Chinese                                                     303\n",
            "                                                           ... \n",
            "Hyderabadi, Andhra, North Indian, Chinese, South Indian       1\n",
            "Bakery, Desserts, Fast Food, Beverages                        1\n",
            "North Indian, Mughlai, Asian                                  1\n",
            "Sandwich, Burger, Fast Food, Rolls, Beverages                 1\n",
            "Desserts, Sandwich                                            1\n",
            "Name: Cuisines, Length: 2392, dtype: int64\n",
            "200.0     4061\n",
            "100.0     3221\n",
            "150.0     3051\n",
            "250.0     1104\n",
            "300.0      710\n",
            "350.0      354\n",
            "400.0      346\n",
            "50.0       337\n",
            "600.0      184\n",
            "500.0      116\n",
            "550.0       73\n",
            "450.0       72\n",
            "650.0       63\n",
            "800.0       50\n",
            "750.0       41\n",
            "700.0       19\n",
            "1000.0      16\n",
            "850.0       16\n",
            "900.0       15\n",
            "1200.0      10\n",
            "950.0        4\n",
            "1150.0       1\n",
            "1100.0       1\n",
            "2050.0       1\n",
            "1400.0       1\n",
            "Name: Average_Cost, dtype: int64\n",
            "50     12674\n",
            "99       956\n",
            "0        188\n",
            "199       13\n",
            "200       10\n",
            "299        3\n",
            "59         3\n",
            "350        3\n",
            "300        2\n",
            "500        2\n",
            "450        2\n",
            "90         2\n",
            "89         2\n",
            "79         2\n",
            "149        1\n",
            "150        1\n",
            "250        1\n",
            "400        1\n",
            "240        1\n",
            "399        1\n",
            "Name: Minimum_Order, dtype: int64\n",
            "3.610791    2470\n",
            "3.700000    1081\n",
            "3.600000    1069\n",
            "3.500000    1015\n",
            "3.800000     983\n",
            "3.900000     965\n",
            "3.400000     903\n",
            "3.300000     828\n",
            "4.000000     755\n",
            "3.200000     640\n",
            "4.100000     574\n",
            "3.100000     531\n",
            "3.000000     367\n",
            "4.200000     342\n",
            "4.300000     299\n",
            "2.900000     256\n",
            "2.800000     198\n",
            "4.400000     171\n",
            "2.700000      98\n",
            "4.500000      96\n",
            "2.600000      51\n",
            "4.600000      48\n",
            "4.700000      42\n",
            "2.500000      33\n",
            "2.400000      18\n",
            "4.800000      16\n",
            "4.900000       8\n",
            "2.300000       8\n",
            "2.100000       2\n",
            "2.200000       1\n",
            "Name: Rating, dtype: int64\n",
            "241.050036     2616\n",
            "4.000000        298\n",
            "6.000000        255\n",
            "7.000000        242\n",
            "9.000000        238\n",
            "               ... \n",
            "411.000000        1\n",
            "736.000000        1\n",
            "800.000000        1\n",
            "2091.000000       1\n",
            "1199.000000       1\n",
            "Name: Votes, Length: 1181, dtype: int64\n",
            "120.893004     2905\n",
            "2.000000        551\n",
            "1.000000        483\n",
            "3.000000        466\n",
            "4.000000        428\n",
            "               ... \n",
            "2931.000000       1\n",
            "2483.000000       1\n",
            "397.000000        1\n",
            "566.000000        1\n",
            "2567.000000       1\n",
            "Name: Reviews, Length: 811, dtype: int64\n",
            "30.0     7406\n",
            "45.0     2665\n",
            "65.0      923\n",
            "120.0      62\n",
            "20.0       20\n",
            "80.0       14\n",
            "10.0        4\n",
            "Name: Delivery_Time, dtype: int64\n"
          ],
          "name": "stdout"
        }
      ]
    },
    {
      "cell_type": "markdown",
      "metadata": {
        "id": "g9gTHcYkeIFT"
      },
      "source": [
        "![summary.png](data:image/png;base64,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)"
      ]
    },
    {
      "cell_type": "code",
      "metadata": {
        "id": "KIVvWcYgeHO-"
      },
      "source": [
        ""
      ],
      "execution_count": null,
      "outputs": []
    },
    {
      "cell_type": "code",
      "metadata": {
        "colab": {
          "base_uri": "https://localhost:8080/",
          "height": 487
        },
        "id": "pT_rLdViFh1j",
        "outputId": "73b85436-8f3d-400f-9389-ef313fe17264"
      },
      "source": [
        "import statsmodels.api as sm\r\n",
        "from statsmodels.formula.api import ols\r\n",
        "\r\n",
        "lm= ols('Average_Cost ~ Delivery_Time',data=df).fit()\r\n",
        "table=sm.stats.anova_lm(lm)\r\n",
        "print(table)\r\n",
        "lm.summary()"
      ],
      "execution_count": 56,
      "outputs": [
        {
          "output_type": "stream",
          "text": [
            "                    df        sum_sq       mean_sq           F        PR(>F)\n",
            "Delivery_Time      1.0  5.738287e+06  5.738287e+06  351.130236  3.714005e-77\n",
            "Residual       11091.0  1.812528e+08  1.634233e+04         NaN           NaN\n"
          ],
          "name": "stdout"
        },
        {
          "output_type": "execute_result",
          "data": {
            "text/html": [
              "<table class=\"simpletable\">\n",
              "<caption>OLS Regression Results</caption>\n",
              "<tr>\n",
              "  <th>Dep. Variable:</th>      <td>Average_Cost</td>   <th>  R-squared:         </th> <td>   0.031</td> \n",
              "</tr>\n",
              "<tr>\n",
              "  <th>Model:</th>                   <td>OLS</td>       <th>  Adj. R-squared:    </th> <td>   0.031</td> \n",
              "</tr>\n",
              "<tr>\n",
              "  <th>Method:</th>             <td>Least Squares</td>  <th>  F-statistic:       </th> <td>   351.1</td> \n",
              "</tr>\n",
              "<tr>\n",
              "  <th>Date:</th>             <td>Mon, 11 Jan 2021</td> <th>  Prob (F-statistic):</th> <td>3.71e-77</td> \n",
              "</tr>\n",
              "<tr>\n",
              "  <th>Time:</th>                 <td>03:23:12</td>     <th>  Log-Likelihood:    </th> <td> -69549.</td> \n",
              "</tr>\n",
              "<tr>\n",
              "  <th>No. Observations:</th>      <td> 11093</td>      <th>  AIC:               </th> <td>1.391e+05</td>\n",
              "</tr>\n",
              "<tr>\n",
              "  <th>Df Residuals:</th>          <td> 11091</td>      <th>  BIC:               </th> <td>1.391e+05</td>\n",
              "</tr>\n",
              "<tr>\n",
              "  <th>Df Model:</th>              <td>     1</td>      <th>                     </th>     <td> </td>    \n",
              "</tr>\n",
              "<tr>\n",
              "  <th>Covariance Type:</th>      <td>nonrobust</td>    <th>                     </th>     <td> </td>    \n",
              "</tr>\n",
              "</table>\n",
              "<table class=\"simpletable\">\n",
              "<tr>\n",
              "        <td></td>           <th>coef</th>     <th>std err</th>      <th>t</th>      <th>P>|t|</th>  <th>[0.025</th>    <th>0.975]</th>  \n",
              "</tr>\n",
              "<tr>\n",
              "  <th>Intercept</th>     <td>  134.9982</td> <td>    3.812</td> <td>   35.415</td> <td> 0.000</td> <td>  127.526</td> <td>  142.470</td>\n",
              "</tr>\n",
              "<tr>\n",
              "  <th>Delivery_Time</th> <td>    1.8272</td> <td>    0.098</td> <td>   18.738</td> <td> 0.000</td> <td>    1.636</td> <td>    2.018</td>\n",
              "</tr>\n",
              "</table>\n",
              "<table class=\"simpletable\">\n",
              "<tr>\n",
              "  <th>Omnibus:</th>       <td>7233.113</td> <th>  Durbin-Watson:     </th>  <td>   1.995</td> \n",
              "</tr>\n",
              "<tr>\n",
              "  <th>Prob(Omnibus):</th>  <td> 0.000</td>  <th>  Jarque-Bera (JB):  </th> <td>112459.961</td>\n",
              "</tr>\n",
              "<tr>\n",
              "  <th>Skew:</th>           <td> 2.927</td>  <th>  Prob(JB):          </th>  <td>    0.00</td> \n",
              "</tr>\n",
              "<tr>\n",
              "  <th>Kurtosis:</th>       <td>17.458</td>  <th>  Cond. No.          </th>  <td>    123.</td> \n",
              "</tr>\n",
              "</table><br/><br/>Warnings:<br/>[1] Standard Errors assume that the covariance matrix of the errors is correctly specified."
            ],
            "text/plain": [
              "<class 'statsmodels.iolib.summary.Summary'>\n",
              "\"\"\"\n",
              "                            OLS Regression Results                            \n",
              "==============================================================================\n",
              "Dep. Variable:           Average_Cost   R-squared:                       0.031\n",
              "Model:                            OLS   Adj. R-squared:                  0.031\n",
              "Method:                 Least Squares   F-statistic:                     351.1\n",
              "Date:                Mon, 11 Jan 2021   Prob (F-statistic):           3.71e-77\n",
              "Time:                        03:23:12   Log-Likelihood:                -69549.\n",
              "No. Observations:               11093   AIC:                         1.391e+05\n",
              "Df Residuals:                   11091   BIC:                         1.391e+05\n",
              "Df Model:                           1                                         \n",
              "Covariance Type:            nonrobust                                         \n",
              "=================================================================================\n",
              "                    coef    std err          t      P>|t|      [0.025      0.975]\n",
              "---------------------------------------------------------------------------------\n",
              "Intercept       134.9982      3.812     35.415      0.000     127.526     142.470\n",
              "Delivery_Time     1.8272      0.098     18.738      0.000       1.636       2.018\n",
              "==============================================================================\n",
              "Omnibus:                     7233.113   Durbin-Watson:                   1.995\n",
              "Prob(Omnibus):                  0.000   Jarque-Bera (JB):           112459.961\n",
              "Skew:                           2.927   Prob(JB):                         0.00\n",
              "Kurtosis:                      17.458   Cond. No.                         123.\n",
              "==============================================================================\n",
              "\n",
              "Warnings:\n",
              "[1] Standard Errors assume that the covariance matrix of the errors is correctly specified.\n",
              "\"\"\""
            ]
          },
          "metadata": {
            "tags": []
          },
          "execution_count": 56
        }
      ]
    },
    {
      "cell_type": "code",
      "metadata": {
        "colab": {
          "base_uri": "https://localhost:8080/",
          "height": 381
        },
        "id": "PZQgCdKXfVcQ",
        "outputId": "d40fdaa8-942d-408a-cedb-c4aeb382e5b4"
      },
      "source": [
        "# Bangalore map overlay to be used to determine regions that accelarate demand in orders during peak hours\r\n",
        "bang_map = folium.Map(location=[12.9716, 77.5946],zoom_start=11.8)\r\n",
        "#folium.TileLayer('cartodbpositron').add_to(bang_map)\r\n",
        "\r\n",
        "loca=\"BBMP.GeoJSON\"\r\n",
        "folium.GeoJson(loca, name=\"geojson\").add_to(bang_map)\r\n",
        "\r\n",
        "bang_map"
      ],
      "execution_count": 57,
      "outputs": [
        {
          "output_type": "error",
          "ename": "FileNotFoundError",
          "evalue": "ignored",
          "traceback": [
            "\u001b[0;31m---------------------------------------------------------------------------\u001b[0m",
            "\u001b[0;31mFileNotFoundError\u001b[0m                         Traceback (most recent call last)",
            "\u001b[0;32m<ipython-input-57-484002663f8f>\u001b[0m in \u001b[0;36m<module>\u001b[0;34m()\u001b[0m\n\u001b[1;32m      4\u001b[0m \u001b[0;34m\u001b[0m\u001b[0m\n\u001b[1;32m      5\u001b[0m \u001b[0mloca\u001b[0m\u001b[0;34m=\u001b[0m\u001b[0;34m\"BBMP.GeoJSON\"\u001b[0m\u001b[0;34m\u001b[0m\u001b[0;34m\u001b[0m\u001b[0m\n\u001b[0;32m----> 6\u001b[0;31m \u001b[0mfolium\u001b[0m\u001b[0;34m.\u001b[0m\u001b[0mGeoJson\u001b[0m\u001b[0;34m(\u001b[0m\u001b[0mloca\u001b[0m\u001b[0;34m,\u001b[0m \u001b[0mname\u001b[0m\u001b[0;34m=\u001b[0m\u001b[0;34m\"geojson\"\u001b[0m\u001b[0;34m)\u001b[0m\u001b[0;34m.\u001b[0m\u001b[0madd_to\u001b[0m\u001b[0;34m(\u001b[0m\u001b[0mbang_map\u001b[0m\u001b[0;34m)\u001b[0m\u001b[0;34m\u001b[0m\u001b[0;34m\u001b[0m\u001b[0m\n\u001b[0m\u001b[1;32m      7\u001b[0m \u001b[0;34m\u001b[0m\u001b[0m\n\u001b[1;32m      8\u001b[0m \u001b[0mbang_map\u001b[0m\u001b[0;34m\u001b[0m\u001b[0;34m\u001b[0m\u001b[0m\n",
            "\u001b[0;32m/usr/local/lib/python3.6/dist-packages/folium/features.py\u001b[0m in \u001b[0;36m__init__\u001b[0;34m(self, data, style_function, name, overlay, control, show, smooth_factor, highlight_function, tooltip)\u001b[0m\n\u001b[1;32m    437\u001b[0m                 \u001b[0mself\u001b[0m\u001b[0;34m.\u001b[0m\u001b[0mdata\u001b[0m \u001b[0;34m=\u001b[0m \u001b[0mjson\u001b[0m\u001b[0;34m.\u001b[0m\u001b[0mloads\u001b[0m\u001b[0;34m(\u001b[0m\u001b[0mdata\u001b[0m\u001b[0;34m)\u001b[0m\u001b[0;34m\u001b[0m\u001b[0;34m\u001b[0m\u001b[0m\n\u001b[1;32m    438\u001b[0m             \u001b[0;32melse\u001b[0m\u001b[0;34m:\u001b[0m  \u001b[0;31m# This is a filename\u001b[0m\u001b[0;34m\u001b[0m\u001b[0;34m\u001b[0m\u001b[0m\n\u001b[0;32m--> 439\u001b[0;31m                 \u001b[0;32mwith\u001b[0m \u001b[0mopen\u001b[0m\u001b[0;34m(\u001b[0m\u001b[0mdata\u001b[0m\u001b[0;34m)\u001b[0m \u001b[0;32mas\u001b[0m \u001b[0mf\u001b[0m\u001b[0;34m:\u001b[0m\u001b[0;34m\u001b[0m\u001b[0;34m\u001b[0m\u001b[0m\n\u001b[0m\u001b[1;32m    440\u001b[0m                     \u001b[0mself\u001b[0m\u001b[0;34m.\u001b[0m\u001b[0mdata\u001b[0m \u001b[0;34m=\u001b[0m \u001b[0mjson\u001b[0m\u001b[0;34m.\u001b[0m\u001b[0mloads\u001b[0m\u001b[0;34m(\u001b[0m\u001b[0mf\u001b[0m\u001b[0;34m.\u001b[0m\u001b[0mread\u001b[0m\u001b[0;34m(\u001b[0m\u001b[0;34m)\u001b[0m\u001b[0;34m)\u001b[0m\u001b[0;34m\u001b[0m\u001b[0;34m\u001b[0m\u001b[0m\n\u001b[1;32m    441\u001b[0m         \u001b[0;32melif\u001b[0m \u001b[0mhasattr\u001b[0m\u001b[0;34m(\u001b[0m\u001b[0mdata\u001b[0m\u001b[0;34m,\u001b[0m \u001b[0;34m'__geo_interface__'\u001b[0m\u001b[0;34m)\u001b[0m\u001b[0;34m:\u001b[0m\u001b[0;34m\u001b[0m\u001b[0;34m\u001b[0m\u001b[0m\n",
            "\u001b[0;31mFileNotFoundError\u001b[0m: [Errno 2] No such file or directory: 'BBMP.GeoJSON'"
          ]
        }
      ]
    },
    {
      "cell_type": "markdown",
      "metadata": {
        "id": "AD0Sbu2n1rMh"
      },
      "source": [
        "\r\n",
        "# **swiggy case analysis - 2**\r\n",
        "\r\n",
        "###**Solution:**\r\n",
        "\r\n",
        "The goal here is to ensure that order fulfilment is maximum, with reduced number of failed orders due to the technical outage.\r\n",
        "\r\n",
        "We have 1000 number of queries from orders and increasing to 5000 within the outage duration, in an hour a single agent handles 12 customers, so going by that number we at least need a bare minimum of 85 agents who can resolve the growing order queries provided the 1000 odd incoming chats are within the stipulated hour. The issue chat threads that are created are also dependent on the level of priority given by swiggy depending on the nature of the issue related to the order.\r\n",
        "\r\n",
        "1.\tThe first line of queries are handled by chatbots and the nature of customer issue gets broken down, by identifying and prioritizing the orders that have order fulfilment related issues we can improve delivery rate.\r\n",
        "2.\tThe first step to ensure if the order fulfillment can be met for those 1000 priority orders by cross checking with the restaurant or the delivery agent.\r\n",
        "3.\tSince the trackers are offline, the call center personnel can utilize direct means of communication with the agent, restaurant and customer to resolve order issues.\r\n",
        "4.\tThe delivery agent may confirm the order fulfilment to the customer from their end and from the restaurant.\r\n",
        "5.\tHistorically there should be a pattern where order fulfillment has seen periodic failure, either from the delivery agent or the restaurant, concentrating in resolving these orders can help reduce the instances where customer experience gets affected\r\n",
        "6.\twith internal customer segments, we can prioritize those customers who are likely to use our services more and ensure that fulfillment is maximized on these customer segments, (swiggy super).\r\n",
        "7.\tTaking this issue to a reporting senior for a potential solution if there is a very low likelihood of other solutions.\r\n"
      ]
    },
    {
      "cell_type": "code",
      "metadata": {
        "id": "vipNLexMVHo2"
      },
      "source": [
        ""
      ],
      "execution_count": null,
      "outputs": []
    }
  ]
}